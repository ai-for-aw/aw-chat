{
  "nbformat": 4,
  "nbformat_minor": 0,
  "metadata": {
    "colab": {
      "private_outputs": true,
      "provenance": []
    },
    "kernelspec": {
      "name": "python3",
      "display_name": "Python 3"
    },
    "language_info": {
      "name": "python"
    }
  },
  "cells": [
    {
      "cell_type": "markdown",
      "source": [
        "# An Ancient World Inflected ChatBot\n",
        "\n",
        "[![Open In Colab](https://colab.research.google.com/assets/colab-badge.png)](https://colab.research.google.com/github/aw-chat/aw-chat/blob/main/app.ipynb)\n",
        "\n",
        "This notebook creates a gradio app that explores how a chatbot can be encouraged to provide information about topics related to the Mediterranean and nearby ancient cultures. It is not a perfect tool as there will still be errors of fact and analysis in the text it produces. Revealing those errors is a goal in that their occurence is an opportunity to think about how the output can be improved.\n",
        "\n",
        "Running all cells will instantiate the gradio app at the end of the notebook and will also print out a link similar to https:####...####.gradio.live . Clicking the gradio.live link will provide a better user experience than using the embedded app. If the first cell doesn't properly import gradio, run it again. That seems to work. (I'd be happy for pointers on why this is happening.)\n",
        "\n",
        "Any queries about this notebook can be directed to [Sebastian Heath](https://isaw.nyu.edu/people/faculty/sebastian-heath) <sebastian.heath -@- nyu.edu>."
      ],
      "metadata": {
        "id": "kW7xqiSEIitz"
      }
    },
    {
      "cell_type": "code",
      "execution_count": null,
      "metadata": {
        "id": "lthtwrU7DjNm"
      },
      "outputs": [],
      "source": [
        "from huggingface_hub import InferenceClient\n",
        "# gradio >= 4.0.0 doesn't work (yet?)\n",
        "!pip install -q gradio==3.48.0\n",
        "import gradio as gr\n",
        "# if this cell fails to run because gradio can't be imported, try running it again. That seems to work. I am not sure why."
      ]
    },
    {
      "cell_type": "code",
      "source": [
        "model = \"mistralai/Mixtral-8x7B-Instruct-v0.1\" # see https://huggingface.co/mistralai/Mixtral-8x7B-Instruct-v0.1\n",
        "\n",
        "client = InferenceClient(model)"
      ],
      "metadata": {
        "id": "UY9Av7FnEU_b"
      },
      "execution_count": null,
      "outputs": []
    },
    {
      "cell_type": "code",
      "source": [
        "# Handle user clicks on the various checkboxes by updating the system prompt. The user will not see\n",
        "# these changes (though that could probably be added. No reason not to.)\n",
        "\n",
        "# There is a tremendous amount of choice involved as to which \"cultures\", \"methods\", and \"perspectives\" to include here.\n",
        "# Please do edit to your own preferences. I'd also like to see the interface become more flexible so that more options can\n",
        "# be made available without overwhelming the user.\n",
        "\n",
        "def update_system_prompt (system_prompt, cultures, methods, perspectives, dates, wikipedia):\n",
        "   # cultures\n",
        "   if \"Celtic\" in cultures:\n",
        "       system_prompt += \"Emphasize evidence from ancient European Celtic (meaning Gallia and Hispania as well as the Celts of Central Europe) history, literature, and archaeology. \"\n",
        "   if \"Egyptian\" in cultures:\n",
        "       system_prompt += \"Emphasize evidence from ancient Egpytian history, literature, and archaeology.\"\n",
        "   if \"Greek\" in cultures:\n",
        "       system_prompt += \"Emphasize evidence from ancient Greek history, literature, and archaeology. \"\n",
        "   if \"Roman\" in cultures:\n",
        "       system_prompt += \"Emphasize evidence from ancient Roman history, Latin literature, and Roman archaeology. \"\n",
        "   if \"Ancient Southwest Asia (ANE)\" in cultures:\n",
        "       system_prompt += \"Emphasize evidence from Ancient Near Eastern (including Mesopotamia, Persia, and Arabia) history, litereature, and archaeology. \"\n",
        "   if \"Phoenecian\" in cultures:\n",
        "       system_prompt += \"Emphasize evidence from ancient Phoenecian and Punic history, literature, and archaeology. \"\n",
        "\n",
        "   # methods\n",
        "   if \"History\" in methods:\n",
        "       system_prompt += \"Especially adopt the perspective of an historian. \"\n",
        "   if \"Art History\" in methods:\n",
        "       system_prompt += \"Especially adopt the perspective of an art historian. \"\n",
        "   if \"Literature\" in methods:\n",
        "       system_prompt += \"Especially adopt the perspective of an expert in philology, literature, and literary studies. \"\n",
        "   if \"Archaeology\" in methods:\n",
        "       system_prompt += \"Especially adopt the perspective of an archaeologist. \"\n",
        "   if \"Epigraphy\" in methods:\n",
        "       system_prompt += \"Especially adopt the perspective of an epigrapher and of epipgraphy. \"\n",
        "   if \"Numismatics\" in methods:\n",
        "       system_prompt += \"Especially adopt the perspective of an expert in numismatics and coinage. \"\n",
        "   if \"Papyrology\" in methods:\n",
        "       system_prompt += \"Especially adopt the perspective of an expert in papyrology. \"\n",
        "   if \"Ancient Medicine\" in methods:\n",
        "       system_prompt += \"Especially adopt the perspective of an expert in Ancient Medicine. \"\n",
        "   if \"Ancient Science\" in methods:\n",
        "       system_prompt += \"Especially adopt the perspective of an expert in the Ancient Exact Sciences. \"\n",
        "   if \"Modern Scientific Approaches\" in methods:\n",
        "       system_prompt += \"Especially adopt the perspective of an expert in recent scientific approaches to the study of archaeology and history.\"\n",
        "\n",
        "   # perspectives\n",
        "   if \"Enslaved Persons\" in perspectives:\n",
        "      system_prompt += \"Emphasize evidence that includes the perpsective of ancient enslaved persons. \"\n",
        "   if \"Gender\" in perspectives:\n",
        "      system_prompt += \"Emphasize evidence that supports the discussion of gender. \"\n",
        "   if \"Ethnicity\" in perspectives:\n",
        "      system_prompt += \"Emphasize evidence that supports the discussion of ethnicity. \"\n",
        "   if \"Inequality\" in perspectives:\n",
        "      system_prompt += \"Emphasize evidence that supports the discussion of social inequality. \"\n",
        "   if \"Hybridity\" in perspectives:\n",
        "      system_prompt += \"Emphasize evidence that supports the discussion of hybridity. \"\n",
        "   if \"New Approaches\" in perspectives:\n",
        "      system_prompt += \"Especially include discussion of new and exciting approaches to the topic. \"\n",
        "\n",
        "   if dates:\n",
        "       system_prompt += \" Add parenthetic dates when you can. Use the BCE/CE system.\"\n",
        "\n",
        "   if wikipedia:\n",
        "       system_prompt += \" Add a list of Wikipedia pages with links to the end of your response. Label this section “Wikipedia Pages” and add a note that some may not exist.\"\n",
        "\n",
        "   return system_prompt"
      ],
      "metadata": {
        "id": "MeLEUfKTEp9H"
      },
      "execution_count": null,
      "outputs": []
    },
    {
      "cell_type": "code",
      "source": [
        "def format_prompt(message, history):\n",
        "  prompt = \"<s>\"\n",
        "  for user_prompt, bot_response in history:\n",
        "    prompt += f\"[INST] {user_prompt} [/INST]\"\n",
        "    prompt += f\" {bot_response}</s> \"\n",
        "  prompt += f\"[INST] {message} [/INST]\"\n",
        "  return prompt"
      ],
      "metadata": {
        "id": "cz5RCofHEmqU"
      },
      "execution_count": null,
      "outputs": []
    },
    {
      "cell_type": "code",
      "source": [
        "def generate(prompt, history, system_prompt,\n",
        "                cultures = [], methods= [], perspectives= [],\n",
        "                dates=False, wikipedia = False,\n",
        "                temperature=0.9, max_new_tokens=2048, top_p=0.95,repetition_penalty=1.0):\n",
        "\n",
        "  temperature = float(temperature)\n",
        "  if temperature < 1e-2:\n",
        "    temperature = 1e-2\n",
        "  top_p = float(top_p)\n",
        "\n",
        "  generate_kwargs = dict(\n",
        "        temperature=temperature,\n",
        "        max_new_tokens=max_new_tokens,\n",
        "        top_p=top_p,\n",
        "        repetition_penalty=repetition_penalty,\n",
        "        do_sample=True\n",
        "   )\n",
        "\n",
        "  system_prompt = update_system_prompt(system_prompt,\n",
        "                                        cultures,\n",
        "                                        methods,\n",
        "                                        perspectives,\n",
        "                                        dates,\n",
        "                                        wikipedia)\n",
        "\n",
        "\n",
        "  formatted_prompt = format_prompt(f\"{system_prompt}, {prompt}\", history)\n",
        "  stream = client.text_generation(formatted_prompt, **generate_kwargs, stream=True, details=True, return_full_text=False)\n",
        "  output = \"\"\n",
        "\n",
        "  for response in stream:\n",
        "    output += response.token.text\n",
        "    yield output\n",
        "\n",
        "  return output"
      ],
      "metadata": {
        "id": "ymVNPqk2EuKt"
      },
      "execution_count": null,
      "outputs": []
    },
    {
      "cell_type": "code",
      "source": [
        "# if you edit the options here, you need to edit the update_system_prompt functoin to match.\n",
        "additional_inputs=[\n",
        "    gr.Textbox(\n",
        "        label=\"System Prompt\",\n",
        "        value=\"You are an expert in Ancient Mediterranean and Near Eastern political history, social history, literature, art, and archaeology. Your expertise should inform all your responses. Don't make up information if you don't know it. Avoid the first person voice in your response.\",\n",
        "        max_lines=1,\n",
        "        interactive=True,\n",
        "    ),\n",
        "    gr.CheckboxGroup([\"Ancient Southwest Asia (ANE)\",\n",
        "                      \"Celtic\",\n",
        "                      \"Egyptian\",\n",
        "                      \"Greek\",\n",
        "                      \"Phoenecian\",\n",
        "                      \"Roman\"],\n",
        "                      label=\"Cultures\",\n",
        "                      info='Add language similar to \"Emphasize evidence from...\" to the system prompt.'),\n",
        "    gr.CheckboxGroup([\"History\",\n",
        "                       \"Art History\",\n",
        "                       \"Literature\",\n",
        "                        \"Archaeology\",\n",
        "                        \"Epigraphy\",\n",
        "                        \"Numismatics\",\n",
        "                        \"Papyrology\",\n",
        "                        \"Ancient Medicine\",\n",
        "                        \"Ancient Science\",\n",
        "                        \"Modern Scientific Approaches\"],\n",
        "                      label=\"Methodologies/Approaches\",\n",
        "                      info='Add language similar to \"Emphasize evidence from...\" to the system prompt.'),\n",
        "    gr.CheckboxGroup([\"Enslaved Persons\", \"Gender\", \"Ethnicity\", \"Inequality\", \"Hybridity\", \"New Approaches\"],\n",
        "                      label=\"Perspectives\",\n",
        "                      info='Add language similar to \"Emphasize evidence related to...\" to the system prompt.'),\n",
        "    gr.Checkbox(value=False,label=\"Dates\", info=\"Select to include parenthetic dates when possible.\"),\n",
        "    gr.Checkbox(value=False,label=\"Wikipedia\", info=\"Append a list of wiki pages. (This is likely to generate links to pages that don't exist.)\"),\n",
        "    gr.Slider(\n",
        "        label=\"Temperature\",\n",
        "        value=0.9,\n",
        "        minimum=0.0,\n",
        "        maximum=1.0,\n",
        "        step=0.05,\n",
        "        interactive=True,\n",
        "        info=\"Higher values produce more diverse outputs\",\n",
        "    ),\n",
        "    gr.Slider(\n",
        "        label=\"Max new tokens\",\n",
        "        value=2048,\n",
        "        minimum=0,\n",
        "        maximum=4096,\n",
        "        step=64,\n",
        "        interactive=True,\n",
        "        info=\"The maximum numbers of new tokens\",\n",
        "    ),\n",
        "    gr.Slider(\n",
        "        label=\"Top-p (nucleus sampling)\",\n",
        "        value=0.90,\n",
        "        minimum=0.0,\n",
        "        maximum=1,\n",
        "        step=0.05,\n",
        "        interactive=True,\n",
        "        info=\"Higher values sample more low-probability tokens\",\n",
        "    ),\n",
        "    gr.Slider(\n",
        "        label=\"Repetition penalty\",\n",
        "        value=1.2,\n",
        "        minimum=1.0,\n",
        "        maximum=2.0,\n",
        "        step=0.05,\n",
        "        interactive=True,\n",
        "        info=\"Penalize repeated tokens\",\n",
        "    )\n",
        "]"
      ],
      "metadata": {
        "id": "ZHbklumaFqf9"
      },
      "execution_count": null,
      "outputs": []
    },
    {
      "cell_type": "code",
      "source": [
        "# add your own here\n",
        "examples = [\n",
        "    [\"Adopting the persona of a Roman emperor, greet an embassy from the city of Ilion (also known as Troy).\"],\n",
        "    [\"Discuss the evidence for Roman manufacturing during the empire.\"],\n",
        "    [\"Should Athens in the fifth century BCE be considered an empire?\"],\n",
        "    [\"What is the case against considering fifth century BCE Athens an empire?\"],\n",
        "    [\"Citing specific characters and story-lines, what is the connection between the Literature of the Ancient Near East and Archaic and Classical Greek Literature?\"],\n",
        "    [\"Which gods were particularly called upon to heal sickness and maintain good health?\"]\n",
        "]"
      ],
      "metadata": {
        "id": "ZEaYKxSGF5Br"
      },
      "execution_count": null,
      "outputs": []
    },
    {
      "cell_type": "code",
      "source": [
        "demo = gr.ChatInterface(\n",
        "    fn=generate,\n",
        "    chatbot=gr.Chatbot(show_label=False, show_share_button=False, show_copy_button=True, layout=\"panel\"),\n",
        "    additional_inputs=additional_inputs,\n",
        "    examples=examples,\n",
        "    title=\"Ancient World (Inflected) Chat\",\n",
        "    description=f\"A chatbot that will answer as an “expert in Ancient Mediterranean and Near Eastern political history, social history, literature, art, and archaeology.” Open the “Additional Inputs” panel to see options by which you can affect the output. Currently, this tool uses the “{model}” LLM downloaded from Hugging Face.\"\n",
        ")"
      ],
      "metadata": {
        "id": "477Jig5bF7ah"
      },
      "execution_count": null,
      "outputs": []
    },
    {
      "cell_type": "code",
      "source": [
        "# executing this cell should instatiate the gradio app within the notebook as well\n",
        "# as print out a link to gradio.live that will let you use the app in its own window\n",
        "\n",
        "demo.queue().launch()"
      ],
      "metadata": {
        "id": "A4N26CbcFwtz"
      },
      "execution_count": null,
      "outputs": []
    }
  ]
}
